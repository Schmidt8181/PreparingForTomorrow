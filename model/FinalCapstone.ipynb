{
 "cells": [
  {
   "cell_type": "code",
   "execution_count": 1,
   "metadata": {
    "collapsed": true
   },
   "outputs": [],
   "source": [
    "import numpy as np\n",
    "import pandas as pd\n",
    "import pyflux as pf\n",
    "import scipy\n",
    "from datetime import datetime\n",
    "import datetime as dt\n",
    "import matplotlib.pyplot as plt\n",
    "%matplotlib inline\n",
    "from sklearn.pipeline import make_pipeline\n",
    "from sklearn.decomposition import PCA\n",
    "from sklearn.ensemble import RandomForestRegressor\n",
    "from sklearn.linear_model import LinearRegression"
   ]
  },
  {
   "cell_type": "code",
   "execution_count": 2,
   "metadata": {
    "collapsed": true
   },
   "outputs": [],
   "source": [
    "import skits"
   ]
  },
  {
   "cell_type": "markdown",
   "metadata": {},
   "source": [
    "# get data"
   ]
  },
  {
   "cell_type": "code",
   "execution_count": 3,
   "metadata": {},
   "outputs": [
    {
     "data": {
      "text/html": [
       "<div>\n",
       "<style scoped>\n",
       "    .dataframe tbody tr th:only-of-type {\n",
       "        vertical-align: middle;\n",
       "    }\n",
       "\n",
       "    .dataframe tbody tr th {\n",
       "        vertical-align: top;\n",
       "    }\n",
       "\n",
       "    .dataframe thead th {\n",
       "        text-align: right;\n",
       "    }\n",
       "</style>\n",
       "<table border=\"1\" class=\"dataframe\">\n",
       "  <thead>\n",
       "    <tr style=\"text-align: right;\">\n",
       "      <th></th>\n",
       "      <th>Date</th>\n",
       "      <th>Food Price Index</th>\n",
       "      <th>Meat Price Index</th>\n",
       "      <th>Dairy Price Index</th>\n",
       "      <th>Cereals Price Index</th>\n",
       "      <th>Oils Price Index</th>\n",
       "      <th>Sugar Price Index</th>\n",
       "    </tr>\n",
       "  </thead>\n",
       "  <tbody>\n",
       "    <tr>\n",
       "      <th>0</th>\n",
       "      <td>1/1990</td>\n",
       "      <td>108.7</td>\n",
       "      <td>112.3</td>\n",
       "      <td>94.3</td>\n",
       "      <td>106.4</td>\n",
       "      <td>73.0</td>\n",
       "      <td>201.5</td>\n",
       "    </tr>\n",
       "    <tr>\n",
       "      <th>1</th>\n",
       "      <td>2/1990</td>\n",
       "      <td>109.9</td>\n",
       "      <td>117.7</td>\n",
       "      <td>91.9</td>\n",
       "      <td>104.0</td>\n",
       "      <td>72.5</td>\n",
       "      <td>207.9</td>\n",
       "    </tr>\n",
       "    <tr>\n",
       "      <th>2</th>\n",
       "      <td>3/1990</td>\n",
       "      <td>107.9</td>\n",
       "      <td>119.6</td>\n",
       "      <td>73.6</td>\n",
       "      <td>102.1</td>\n",
       "      <td>74.6</td>\n",
       "      <td>218.0</td>\n",
       "    </tr>\n",
       "    <tr>\n",
       "      <th>3</th>\n",
       "      <td>4/1990</td>\n",
       "      <td>114.2</td>\n",
       "      <td>131.0</td>\n",
       "      <td>85.2</td>\n",
       "      <td>105.1</td>\n",
       "      <td>71.8</td>\n",
       "      <td>216.3</td>\n",
       "    </tr>\n",
       "    <tr>\n",
       "      <th>4</th>\n",
       "      <td>5/1990</td>\n",
       "      <td>111.2</td>\n",
       "      <td>130.5</td>\n",
       "      <td>70.0</td>\n",
       "      <td>105.3</td>\n",
       "      <td>74.4</td>\n",
       "      <td>207.2</td>\n",
       "    </tr>\n",
       "  </tbody>\n",
       "</table>\n",
       "</div>"
      ],
      "text/plain": [
       "     Date  Food Price Index  Meat Price Index  Dairy Price Index  \\\n",
       "0  1/1990             108.7             112.3               94.3   \n",
       "1  2/1990             109.9             117.7               91.9   \n",
       "2  3/1990             107.9             119.6               73.6   \n",
       "3  4/1990             114.2             131.0               85.2   \n",
       "4  5/1990             111.2             130.5               70.0   \n",
       "\n",
       "   Cereals Price Index  Oils Price Index  Sugar Price Index  \n",
       "0                106.4              73.0              201.5  \n",
       "1                104.0              72.5              207.9  \n",
       "2                102.1              74.6              218.0  \n",
       "3                105.1              71.8              216.3  \n",
       "4                105.3              74.4              207.2  "
      ]
     },
     "execution_count": 3,
     "metadata": {},
     "output_type": "execute_result"
    }
   ],
   "source": [
    "import os\n",
    "curr_directory = os.getcwd()\n",
    "datafile = curr_directory + \"/data/Food_price_indices_data_jul.csv\"\n",
    "food_data = pd.read_csv(datafile)\n",
    "food_data.head()"
   ]
  },
  {
   "cell_type": "code",
   "execution_count": 4,
   "metadata": {},
   "outputs": [
    {
     "data": {
      "text/html": [
       "<div>\n",
       "<style scoped>\n",
       "    .dataframe tbody tr th:only-of-type {\n",
       "        vertical-align: middle;\n",
       "    }\n",
       "\n",
       "    .dataframe tbody tr th {\n",
       "        vertical-align: top;\n",
       "    }\n",
       "\n",
       "    .dataframe thead th {\n",
       "        text-align: right;\n",
       "    }\n",
       "</style>\n",
       "<table border=\"1\" class=\"dataframe\">\n",
       "  <thead>\n",
       "    <tr style=\"text-align: right;\">\n",
       "      <th></th>\n",
       "      <th>Year</th>\n",
       "      <th>Jan</th>\n",
       "      <th>Feb</th>\n",
       "      <th>Mar</th>\n",
       "      <th>Apr</th>\n",
       "      <th>May</th>\n",
       "      <th>Jun</th>\n",
       "      <th>Jul</th>\n",
       "      <th>Aug</th>\n",
       "      <th>Sep</th>\n",
       "      <th>Oct</th>\n",
       "      <th>Nov</th>\n",
       "      <th>Dec</th>\n",
       "      <th>J-D</th>\n",
       "      <th>D-N</th>\n",
       "      <th>DJF</th>\n",
       "      <th>MAM</th>\n",
       "      <th>JJA</th>\n",
       "      <th>SON</th>\n",
       "    </tr>\n",
       "  </thead>\n",
       "  <tbody>\n",
       "    <tr>\n",
       "      <th>0</th>\n",
       "      <td>1880</td>\n",
       "      <td>-0.29</td>\n",
       "      <td>-0.18</td>\n",
       "      <td>-0.11</td>\n",
       "      <td>-0.19</td>\n",
       "      <td>-0.11</td>\n",
       "      <td>-0.23</td>\n",
       "      <td>-0.20</td>\n",
       "      <td>-0.09</td>\n",
       "      <td>-0.15</td>\n",
       "      <td>-0.23</td>\n",
       "      <td>-0.2</td>\n",
       "      <td>-0.22</td>\n",
       "      <td>-0.18</td>\n",
       "      <td>***</td>\n",
       "      <td>***</td>\n",
       "      <td>-0.14</td>\n",
       "      <td>-0.17</td>\n",
       "      <td>-0.19</td>\n",
       "    </tr>\n",
       "    <tr>\n",
       "      <th>1</th>\n",
       "      <td>1881</td>\n",
       "      <td>-0.15</td>\n",
       "      <td>-0.17</td>\n",
       "      <td>0.04</td>\n",
       "      <td>0.04</td>\n",
       "      <td>0.02</td>\n",
       "      <td>-0.20</td>\n",
       "      <td>-0.06</td>\n",
       "      <td>-0.02</td>\n",
       "      <td>-0.13</td>\n",
       "      <td>-0.2</td>\n",
       "      <td>-0.21</td>\n",
       "      <td>-0.1</td>\n",
       "      <td>-0.09</td>\n",
       "      <td>-0.1</td>\n",
       "      <td>-0.18</td>\n",
       "      <td>0.04</td>\n",
       "      <td>-0.09</td>\n",
       "      <td>-0.18</td>\n",
       "    </tr>\n",
       "    <tr>\n",
       "      <th>2</th>\n",
       "      <td>1882</td>\n",
       "      <td>0.15</td>\n",
       "      <td>0.15</td>\n",
       "      <td>0.04</td>\n",
       "      <td>-0.18</td>\n",
       "      <td>-0.16</td>\n",
       "      <td>-0.25</td>\n",
       "      <td>-0.20</td>\n",
       "      <td>-0.05</td>\n",
       "      <td>-0.09</td>\n",
       "      <td>-0.24</td>\n",
       "      <td>-0.16</td>\n",
       "      <td>-0.24</td>\n",
       "      <td>-0.1</td>\n",
       "      <td>-0.09</td>\n",
       "      <td>0.07</td>\n",
       "      <td>-0.10</td>\n",
       "      <td>-0.17</td>\n",
       "      <td>-0.16</td>\n",
       "    </tr>\n",
       "    <tr>\n",
       "      <th>3</th>\n",
       "      <td>1883</td>\n",
       "      <td>-0.31</td>\n",
       "      <td>-0.38</td>\n",
       "      <td>-0.12</td>\n",
       "      <td>-0.17</td>\n",
       "      <td>-0.20</td>\n",
       "      <td>-0.12</td>\n",
       "      <td>-0.08</td>\n",
       "      <td>-0.15</td>\n",
       "      <td>-0.2</td>\n",
       "      <td>-0.14</td>\n",
       "      <td>-0.22</td>\n",
       "      <td>-0.15</td>\n",
       "      <td>-0.19</td>\n",
       "      <td>-0.19</td>\n",
       "      <td>-0.31</td>\n",
       "      <td>-0.16</td>\n",
       "      <td>-0.11</td>\n",
       "      <td>-0.19</td>\n",
       "    </tr>\n",
       "    <tr>\n",
       "      <th>4</th>\n",
       "      <td>1884</td>\n",
       "      <td>-0.15</td>\n",
       "      <td>-0.08</td>\n",
       "      <td>-0.37</td>\n",
       "      <td>-0.42</td>\n",
       "      <td>-0.36</td>\n",
       "      <td>-0.40</td>\n",
       "      <td>-0.34</td>\n",
       "      <td>-0.26</td>\n",
       "      <td>-0.27</td>\n",
       "      <td>-0.24</td>\n",
       "      <td>-0.29</td>\n",
       "      <td>-0.27</td>\n",
       "      <td>-0.29</td>\n",
       "      <td>-0.28</td>\n",
       "      <td>-0.13</td>\n",
       "      <td>-0.38</td>\n",
       "      <td>-0.33</td>\n",
       "      <td>-0.27</td>\n",
       "    </tr>\n",
       "  </tbody>\n",
       "</table>\n",
       "</div>"
      ],
      "text/plain": [
       "   Year   Jan   Feb   Mar   Apr   May   Jun   Jul    Aug    Sep    Oct    Nov  \\\n",
       "0  1880 -0.29 -0.18 -0.11 -0.19 -0.11 -0.23 -0.20  -0.09  -0.15  -0.23   -0.2   \n",
       "1  1881 -0.15 -0.17  0.04  0.04  0.02 -0.20 -0.06  -0.02  -0.13   -0.2  -0.21   \n",
       "2  1882  0.15  0.15  0.04 -0.18 -0.16 -0.25 -0.20  -0.05  -0.09  -0.24  -0.16   \n",
       "3  1883 -0.31 -0.38 -0.12 -0.17 -0.20 -0.12 -0.08  -0.15   -0.2  -0.14  -0.22   \n",
       "4  1884 -0.15 -0.08 -0.37 -0.42 -0.36 -0.40 -0.34  -0.26  -0.27  -0.24  -0.29   \n",
       "\n",
       "     Dec    J-D    D-N    DJF   MAM    JJA    SON  \n",
       "0  -0.22  -0.18    ***    *** -0.14  -0.17  -0.19  \n",
       "1   -0.1  -0.09   -0.1  -0.18  0.04  -0.09  -0.18  \n",
       "2  -0.24   -0.1  -0.09   0.07 -0.10  -0.17  -0.16  \n",
       "3  -0.15  -0.19  -0.19  -0.31 -0.16  -0.11  -0.19  \n",
       "4  -0.27  -0.29  -0.28  -0.13 -0.38  -0.33  -0.27  "
      ]
     },
     "execution_count": 4,
     "metadata": {},
     "output_type": "execute_result"
    }
   ],
   "source": [
    "datafile2 = curr_directory + \"/data/GLB.Ts+dSST.csv\"\n",
    "temperature_data = pd.read_csv(datafile2)\n",
    "temperature_data.head()"
   ]
  },
  {
   "cell_type": "markdown",
   "metadata": {},
   "source": [
    "# clean the data"
   ]
  },
  {
   "cell_type": "code",
   "execution_count": 5,
   "metadata": {
    "collapsed": true
   },
   "outputs": [],
   "source": [
    "from Capstone.cleaning import cleaning\n",
    "\n",
    "clean_temp_data = cleaning.clean_temperature_data_step1(temperature_data)\n",
    "clean_temp_data = cleaning.clean_temperature_data_step2(clean_temp_data)"
   ]
  },
  {
   "cell_type": "code",
   "execution_count": 6,
   "metadata": {},
   "outputs": [
    {
     "data": {
      "text/plain": [
       "Date           datetime64[ns]\n",
       "Temperature           float64\n",
       "dtype: object"
      ]
     },
     "execution_count": 6,
     "metadata": {},
     "output_type": "execute_result"
    }
   ],
   "source": [
    "clean_temp_data.dtypes"
   ]
  },
  {
   "cell_type": "code",
   "execution_count": 7,
   "metadata": {
    "collapsed": true
   },
   "outputs": [],
   "source": [
    "clean_food_data = cleaning.clean_food_data(food_data)"
   ]
  },
  {
   "cell_type": "code",
   "execution_count": 8,
   "metadata": {
    "collapsed": true
   },
   "outputs": [],
   "source": [
    "clean_food_data['Temperature'] = clean_temp_data['Temperature']"
   ]
  },
  {
   "cell_type": "code",
   "execution_count": 9,
   "metadata": {},
   "outputs": [
    {
     "data": {
      "text/html": [
       "<div>\n",
       "<style scoped>\n",
       "    .dataframe tbody tr th:only-of-type {\n",
       "        vertical-align: middle;\n",
       "    }\n",
       "\n",
       "    .dataframe tbody tr th {\n",
       "        vertical-align: top;\n",
       "    }\n",
       "\n",
       "    .dataframe thead th {\n",
       "        text-align: right;\n",
       "    }\n",
       "</style>\n",
       "<table border=\"1\" class=\"dataframe\">\n",
       "  <thead>\n",
       "    <tr style=\"text-align: right;\">\n",
       "      <th></th>\n",
       "      <th>Date</th>\n",
       "      <th>Meat Price Index</th>\n",
       "      <th>Dairy Price Index</th>\n",
       "      <th>Cereals Price Index</th>\n",
       "      <th>Oils Price Index</th>\n",
       "      <th>Sugar Price Index</th>\n",
       "      <th>Temperature</th>\n",
       "    </tr>\n",
       "  </thead>\n",
       "  <tbody>\n",
       "    <tr>\n",
       "      <th>337</th>\n",
       "      <td>2018-02-01</td>\n",
       "      <td>170.3</td>\n",
       "      <td>191.1</td>\n",
       "      <td>161.3</td>\n",
       "      <td>158.0</td>\n",
       "      <td>192.4</td>\n",
       "      <td>0.81</td>\n",
       "    </tr>\n",
       "    <tr>\n",
       "      <th>338</th>\n",
       "      <td>2018-03-01</td>\n",
       "      <td>171.0</td>\n",
       "      <td>197.4</td>\n",
       "      <td>165.4</td>\n",
       "      <td>156.8</td>\n",
       "      <td>185.5</td>\n",
       "      <td>0.91</td>\n",
       "    </tr>\n",
       "    <tr>\n",
       "      <th>339</th>\n",
       "      <td>2018-04-01</td>\n",
       "      <td>170.4</td>\n",
       "      <td>204.1</td>\n",
       "      <td>168.5</td>\n",
       "      <td>154.6</td>\n",
       "      <td>176.1</td>\n",
       "      <td>0.87</td>\n",
       "    </tr>\n",
       "    <tr>\n",
       "      <th>340</th>\n",
       "      <td>2018-05-01</td>\n",
       "      <td>169.3</td>\n",
       "      <td>215.2</td>\n",
       "      <td>172.6</td>\n",
       "      <td>150.6</td>\n",
       "      <td>175.3</td>\n",
       "      <td>0.82</td>\n",
       "    </tr>\n",
       "    <tr>\n",
       "      <th>341</th>\n",
       "      <td>2018-06-01</td>\n",
       "      <td>169.8</td>\n",
       "      <td>213.2</td>\n",
       "      <td>166.2</td>\n",
       "      <td>146.1</td>\n",
       "      <td>177.4</td>\n",
       "      <td>0.76</td>\n",
       "    </tr>\n",
       "  </tbody>\n",
       "</table>\n",
       "</div>"
      ],
      "text/plain": [
       "          Date  Meat Price Index  Dairy Price Index  Cereals Price Index  \\\n",
       "337 2018-02-01             170.3              191.1                161.3   \n",
       "338 2018-03-01             171.0              197.4                165.4   \n",
       "339 2018-04-01             170.4              204.1                168.5   \n",
       "340 2018-05-01             169.3              215.2                172.6   \n",
       "341 2018-06-01             169.8              213.2                166.2   \n",
       "\n",
       "     Oils Price Index  Sugar Price Index  Temperature  \n",
       "337             158.0              192.4         0.81  \n",
       "338             156.8              185.5         0.91  \n",
       "339             154.6              176.1         0.87  \n",
       "340             150.6              175.3         0.82  \n",
       "341             146.1              177.4         0.76  "
      ]
     },
     "execution_count": 9,
     "metadata": {},
     "output_type": "execute_result"
    }
   ],
   "source": [
    "clean_food_data.tail()"
   ]
  },
  {
   "cell_type": "code",
   "execution_count": 19,
   "metadata": {},
   "outputs": [
    {
     "name": "stdout",
     "output_type": "stream",
     "text": [
      "statsmodels: 0.9.0\n"
     ]
    }
   ],
   "source": [
    "import statsmodels\n",
    "print('statsmodels: %s' % statsmodels.__version__)"
   ]
  },
  {
   "cell_type": "code",
   "execution_count": 11,
   "metadata": {
    "collapsed": true
   },
   "outputs": [],
   "source": [
    "indexed_df = clean_food_data.set_index(['Date'])\n",
    "indexed_df.to_csv('data/indexed_clean_df.csv')"
   ]
  },
  {
   "cell_type": "markdown",
   "metadata": {},
   "source": [
    "# Data exploration and visualization\n",
    "don't forget that the data is on a scale of 2002-2004 = 100.0"
   ]
  },
  {
   "cell_type": "code",
   "execution_count": null,
   "metadata": {
    "collapsed": true
   },
   "outputs": [],
   "source": [
    "indexed_df.describe()"
   ]
  },
  {
   "cell_type": "code",
   "execution_count": null,
   "metadata": {
    "collapsed": true
   },
   "outputs": [],
   "source": [
    "indexed_df.head()"
   ]
  },
  {
   "cell_type": "code",
   "execution_count": null,
   "metadata": {
    "collapsed": true
   },
   "outputs": [],
   "source": [
    "import seaborn as sns\n",
    "\n",
    "f, ax = plt.subplots(figsize=(10, 8))\n",
    "corr = indexed_df.corr()\n",
    "sns.heatmap(corr, mask=np.zeros_like(corr, dtype=np.bool),\n",
    "            cmap=sns.diverging_palette(220, 10, as_cmap=True),\n",
    "            square=True, ax=ax)\n"
   ]
  },
  {
   "cell_type": "code",
   "execution_count": null,
   "metadata": {
    "collapsed": true
   },
   "outputs": [],
   "source": [
    "pd.plotting.scatter_matrix(indexed_df, alpha = 0.3, figsize = (14,14), diagonal = 'kde');"
   ]
  },
  {
   "cell_type": "code",
   "execution_count": null,
   "metadata": {
    "collapsed": true
   },
   "outputs": [],
   "source": [
    "# checking for collinearity\n",
    "food_corr = np.corrcoef(indexed_df, rowvar=False)\n",
    "eig_val, eig_vec = np.linalg.eig(food_corr)\n",
    "eig_val"
   ]
  },
  {
   "cell_type": "code",
   "execution_count": null,
   "metadata": {
    "collapsed": true
   },
   "outputs": [],
   "source": [
    "indexed_df.plot()\n",
    "plt.show()"
   ]
  },
  {
   "cell_type": "code",
   "execution_count": null,
   "metadata": {
    "collapsed": true
   },
   "outputs": [],
   "source": [
    "indexed_df.hist(figsize=(8,8))\n",
    "plt.show()"
   ]
  },
  {
   "cell_type": "code",
   "execution_count": 15,
   "metadata": {
    "collapsed": true
   },
   "outputs": [],
   "source": [
    "from pandas.plotting import autocorrelation_plot"
   ]
  },
  {
   "cell_type": "code",
   "execution_count": 12,
   "metadata": {
    "collapsed": true
   },
   "outputs": [],
   "source": [
    "import warnings"
   ]
  },
  {
   "cell_type": "code",
   "execution_count": null,
   "metadata": {
    "collapsed": true
   },
   "outputs": [],
   "source": []
  },
  {
   "cell_type": "markdown",
   "metadata": {},
   "source": [
    "# feature engineering"
   ]
  },
  {
   "cell_type": "code",
   "execution_count": null,
   "metadata": {
    "collapsed": true
   },
   "outputs": [],
   "source": [
    "df_diff = indexed_df.diff()"
   ]
  },
  {
   "cell_type": "code",
   "execution_count": null,
   "metadata": {
    "collapsed": true
   },
   "outputs": [],
   "source": [
    "df_diff.head()"
   ]
  },
  {
   "cell_type": "code",
   "execution_count": null,
   "metadata": {
    "collapsed": true
   },
   "outputs": [],
   "source": [
    "df_diff.plot()\n",
    "plt.show()"
   ]
  },
  {
   "cell_type": "code",
   "execution_count": null,
   "metadata": {
    "collapsed": true
   },
   "outputs": [],
   "source": [
    "pd.plotting.scatter_matrix(df_diff, alpha = 0.3, figsize = (14,14), diagonal = 'kde');"
   ]
  },
  {
   "cell_type": "code",
   "execution_count": null,
   "metadata": {
    "collapsed": true
   },
   "outputs": [],
   "source": [
    "from statsmodels.tsa.stattools import adfuller\n",
    "\n",
    "\n",
    "def test_fuller(df):\n",
    "    result = adfuller(df[1:])\n",
    "    print('ADF Statistic: %f' % result[0])\n",
    "    print('p-value: %f' % result[1])\n",
    "    print('Critical Values:')\n",
    "    for key, value in result[4].items():\n",
    "        print('\\t%s: %.3f' % (key, value))"
   ]
  },
  {
   "cell_type": "markdown",
   "metadata": {},
   "source": [
    "check differenced data for stationarity"
   ]
  },
  {
   "cell_type": "code",
   "execution_count": null,
   "metadata": {
    "collapsed": true
   },
   "outputs": [],
   "source": [
    "test_fuller(df_diff['Meat Price Index'])"
   ]
  },
  {
   "cell_type": "code",
   "execution_count": null,
   "metadata": {
    "collapsed": true
   },
   "outputs": [],
   "source": [
    "test_fuller(df_diff['Cereals Price Index'])"
   ]
  },
  {
   "cell_type": "code",
   "execution_count": null,
   "metadata": {
    "collapsed": true
   },
   "outputs": [],
   "source": [
    "test_fuller(df_diff['Dairy Price Index'])"
   ]
  },
  {
   "cell_type": "code",
   "execution_count": null,
   "metadata": {
    "collapsed": true
   },
   "outputs": [],
   "source": [
    "test_fuller(df_diff['Oils Price Index'])"
   ]
  },
  {
   "cell_type": "code",
   "execution_count": null,
   "metadata": {
    "collapsed": true
   },
   "outputs": [],
   "source": [
    "test_fuller(df_diff['Sugar Price Index'])"
   ]
  },
  {
   "cell_type": "markdown",
   "metadata": {},
   "source": [
    "all adfuller tests show that the differenced data is stationary\n",
    "\n"
   ]
  },
  {
   "cell_type": "code",
   "execution_count": 13,
   "metadata": {
    "collapsed": true
   },
   "outputs": [],
   "source": [
    "# adjust data for tsfresh tool\n",
    "tsfresh_data = pd.melt(clean_food_data, id_vars='Date')"
   ]
  },
  {
   "cell_type": "code",
   "execution_count": 13,
   "metadata": {},
   "outputs": [
    {
     "data": {
      "text/html": [
       "<div>\n",
       "<style scoped>\n",
       "    .dataframe tbody tr th:only-of-type {\n",
       "        vertical-align: middle;\n",
       "    }\n",
       "\n",
       "    .dataframe tbody tr th {\n",
       "        vertical-align: top;\n",
       "    }\n",
       "\n",
       "    .dataframe thead th {\n",
       "        text-align: right;\n",
       "    }\n",
       "</style>\n",
       "<table border=\"1\" class=\"dataframe\">\n",
       "  <thead>\n",
       "    <tr style=\"text-align: right;\">\n",
       "      <th></th>\n",
       "      <th>Date</th>\n",
       "      <th>variable</th>\n",
       "      <th>value</th>\n",
       "    </tr>\n",
       "  </thead>\n",
       "  <tbody>\n",
       "    <tr>\n",
       "      <th>0</th>\n",
       "      <td>1990-01-01</td>\n",
       "      <td>Meat Price Index</td>\n",
       "      <td>112.3</td>\n",
       "    </tr>\n",
       "    <tr>\n",
       "      <th>1</th>\n",
       "      <td>1990-02-01</td>\n",
       "      <td>Meat Price Index</td>\n",
       "      <td>117.7</td>\n",
       "    </tr>\n",
       "    <tr>\n",
       "      <th>2</th>\n",
       "      <td>1990-03-01</td>\n",
       "      <td>Meat Price Index</td>\n",
       "      <td>119.6</td>\n",
       "    </tr>\n",
       "    <tr>\n",
       "      <th>3</th>\n",
       "      <td>1990-04-01</td>\n",
       "      <td>Meat Price Index</td>\n",
       "      <td>131.0</td>\n",
       "    </tr>\n",
       "    <tr>\n",
       "      <th>4</th>\n",
       "      <td>1990-05-01</td>\n",
       "      <td>Meat Price Index</td>\n",
       "      <td>130.5</td>\n",
       "    </tr>\n",
       "  </tbody>\n",
       "</table>\n",
       "</div>"
      ],
      "text/plain": [
       "        Date          variable  value\n",
       "0 1990-01-01  Meat Price Index  112.3\n",
       "1 1990-02-01  Meat Price Index  117.7\n",
       "2 1990-03-01  Meat Price Index  119.6\n",
       "3 1990-04-01  Meat Price Index  131.0\n",
       "4 1990-05-01  Meat Price Index  130.5"
      ]
     },
     "execution_count": 13,
     "metadata": {},
     "output_type": "execute_result"
    }
   ],
   "source": [
    "tsfresh_data.head()"
   ]
  },
  {
   "cell_type": "code",
   "execution_count": 14,
   "metadata": {
    "scrolled": true
   },
   "outputs": [
    {
     "name": "stderr",
     "output_type": "stream",
     "text": [
      "Feature Extraction: 100%|██████████| 6/6 [00:02<00:00,  2.79it/s]\n"
     ]
    }
   ],
   "source": [
    "from tsfresh import extract_features\n",
    "extracted_features = extract_features(tsfresh_data, column_id='variable', column_sort='Date')"
   ]
  },
  {
   "cell_type": "code",
   "execution_count": 15,
   "metadata": {},
   "outputs": [
    {
     "data": {
      "text/plain": [
       "(6, 794)"
      ]
     },
     "execution_count": 15,
     "metadata": {},
     "output_type": "execute_result"
    }
   ],
   "source": [
    "extracted_features.shape"
   ]
  },
  {
   "cell_type": "code",
   "execution_count": null,
   "metadata": {
    "collapsed": true
   },
   "outputs": [],
   "source": [
    "extracted_features.head()"
   ]
  },
  {
   "cell_type": "code",
   "execution_count": 13,
   "metadata": {
    "collapsed": true
   },
   "outputs": [],
   "source": [
    "from skits.preprocessing import (ReversibleImputer, \n",
    "                                 DifferenceTransformer)\n",
    "from skits.feature_extraction import (AutoregressiveTransformer,\n",
    "                                      SeasonalTransformer)\n",
    "from skits.pipeline import ForecasterPipeline\n",
    "from sklearn.pipeline import FeatureUnion\n",
    "from sklearn.preprocessing import StandardScaler"
   ]
  },
  {
   "cell_type": "code",
   "execution_count": 14,
   "metadata": {
    "collapsed": true
   },
   "outputs": [],
   "source": [
    "meat_y = clean_food_data['Meat Price Index'].copy()\n",
    "meat_X = meat_y.copy()[:, np.newaxis]\n"
   ]
  },
  {
   "cell_type": "code",
   "execution_count": 18,
   "metadata": {
    "collapsed": true
   },
   "outputs": [],
   "source": [
    "pipeline = ForecasterPipeline([\n",
    "    ('pre_differencer', DifferenceTransformer(period=1)),\n",
    "    ('pre_diff_imputer', ReversibleImputer()),\n",
    "    ('pre_yr_differencer', DifferenceTransformer(period=12)),\n",
    "    ('pre_yr_diff_imputer', ReversibleImputer()),\n",
    "    ('pre_scaler', StandardScaler()),\n",
    "    ('features', FeatureUnion([\n",
    "        ('ar_features', AutoregressiveTransformer(num_lags=1)),\n",
    "        ('seasonal_features', SeasonalTransformer(seasonal_period=12)),\n",
    "    ])),\n",
    "    ('post_feature_imputer', ReversibleImputer()),\n",
    "    ('post_feature_scaler', StandardScaler()),\n",
    "    ('regressor', LinearRegression(fit_intercept=False))\n",
    "])\n",
    "\n",
    "pipeline = pipeline.fit(meat_X, meat_y)"
   ]
  },
  {
   "cell_type": "code",
   "execution_count": 15,
   "metadata": {
    "collapsed": true
   },
   "outputs": [],
   "source": [
    "# each step alone\n",
    "diff_1 = DifferenceTransformer(period=1)\n",
    "rev_imp = ReversibleImputer()\n",
    "diff_12 = DifferenceTransformer(period=12)\n",
    "scaler = StandardScaler()\n",
    "auto_trans = AutoregressiveTransformer(num_lags=1)\n",
    "seasonal_trans = SeasonalTransformer(seasonal_period=12)\n",
    "regr = LinearRegression(fit_intercept=False)"
   ]
  },
  {
   "cell_type": "code",
   "execution_count": 16,
   "metadata": {
    "collapsed": true
   },
   "outputs": [],
   "source": [
    "diffed = diff_1.fit_transform(meat_X, meat_y)"
   ]
  },
  {
   "cell_type": "code",
   "execution_count": 17,
   "metadata": {
    "collapsed": true
   },
   "outputs": [],
   "source": [
    "reved = rev_imp.fit(X=diffed)"
   ]
  },
  {
   "cell_type": "code",
   "execution_count": 18,
   "metadata": {
    "collapsed": true
   },
   "outputs": [],
   "source": [
    "transformed_rev = rev_imp.transform(diffed)"
   ]
  },
  {
   "cell_type": "code",
   "execution_count": 19,
   "metadata": {
    "collapsed": true
   },
   "outputs": [],
   "source": [
    "diffed_12 = diff_12.fit_transform(transformed_rev, meat_y)"
   ]
  },
  {
   "cell_type": "code",
   "execution_count": 28,
   "metadata": {
    "collapsed": true
   },
   "outputs": [],
   "source": [
    "reved_diffed_12 = rev_imp.fit(diffed_12).transform(diffed_12)\n"
   ]
  },
  {
   "cell_type": "code",
   "execution_count": 21,
   "metadata": {
    "collapsed": true
   },
   "outputs": [],
   "source": [
    "scaled = scaler.fit_transform(reved_diffed_12, meat_y)"
   ]
  },
  {
   "cell_type": "code",
   "execution_count": 22,
   "metadata": {
    "scrolled": false
   },
   "outputs": [
    {
     "name": "stdout",
     "output_type": "stream",
     "text": [
      "Combined space has 2 features\n"
     ]
    }
   ],
   "source": [
    "combine_features = FeatureUnion([\n",
    "        ('ar_features', AutoregressiveTransformer(num_lags=1)),\n",
    "        ('seasonal_features', SeasonalTransformer(seasonal_period=12)),\n",
    "    ])\n",
    "\n",
    "X_features = combine_features.fit(scaled, meat_y).transform(scaled)\n",
    "print(\"Combined space has\", X_features.shape[1], \"features\")\n"
   ]
  },
  {
   "cell_type": "code",
   "execution_count": 23,
   "metadata": {
    "collapsed": true
   },
   "outputs": [],
   "source": [
    "reved_features = rev_imp.fit(X_features).transform(X_features)\n",
    "#reved_features = rev_imp.transform(X_features)"
   ]
  },
  {
   "cell_type": "code",
   "execution_count": 24,
   "metadata": {
    "collapsed": true
   },
   "outputs": [],
   "source": [
    "rescaled = scaler.fit_transform(reved_features)"
   ]
  },
  {
   "cell_type": "code",
   "execution_count": 29,
   "metadata": {},
   "outputs": [
    {
     "data": {
      "text/plain": [
       "LinearRegression(copy_X=True, fit_intercept=False, n_jobs=1, normalize=False)"
      ]
     },
     "execution_count": 29,
     "metadata": {},
     "output_type": "execute_result"
    }
   ],
   "source": [
    "regr.fit(rescaled, meat_y)"
   ]
  },
  {
   "cell_type": "code",
   "execution_count": 30,
   "metadata": {},
   "outputs": [
    {
     "data": {
      "text/plain": [
       "-19.884147710065"
      ]
     },
     "execution_count": 30,
     "metadata": {},
     "output_type": "execute_result"
    }
   ],
   "source": [
    "regr.score(rescaled, meat_y)"
   ]
  },
  {
   "cell_type": "code",
   "execution_count": 34,
   "metadata": {},
   "outputs": [
    {
     "data": {
      "text/plain": [
       "<matplotlib.legend.Legend at 0x108bdffd0>"
      ]
     },
     "execution_count": 34,
     "metadata": {},
     "output_type": "execute_result"
    },
    {
     "data": {
      "image/png": "[encoded data removed]",
      "text/plain": [
       "<Figure size 432x288 with 1 Axes>"
      ]
     },
     "metadata": {
      "needs_background": "light"
     },
     "output_type": "display_data"
    }
   ],
   "source": [
    "plt.plot(meat_y, '.')\n",
    "plt.plot(regr.predict(rescaled), '.')\n",
    "plt.legend(['Actual', 'Prediction'])"
   ]
  },
  {
   "cell_type": "code",
   "execution_count": 32,
   "metadata": {
    "scrolled": false
   },
   "outputs": [
    {
     "data": {
      "image/png": "[encoded data removed]",
      "text/plain": [
       "<Figure size 432x288 with 1 Axes>"
      ]
     },
     "metadata": {
      "needs_background": "light"
     },
     "output_type": "display_data"
    }
   ],
   "source": [
    "plt.plot(meat_y[-12:], '.');\n",
    "#plt.plot(pipeline.predict(meat_X[-10:], to_scale=True), '.')\n",
    "plt.legend(['Actual', 'Prediction']);\n"
   ]
  },
  {
   "cell_type": "code",
   "execution_count": 18,
   "metadata": {
    "scrolled": true
   },
   "outputs": [
    {
     "ename": "ValueError",
     "evalue": "Input contains NaN, infinity or a value too large for dtype('float64').",
     "output_type": "error",
     "traceback": [
      "\u001b[0;31m---------------------------------------------------------------------------\u001b[0m",
      "\u001b[0;31mValueError\u001b[0m                                Traceback (most recent call last)",
      "\u001b[0;32m<ipython-input-18-fbf2f155aaf3>\u001b[0m in \u001b[0;36m<module>\u001b[0;34m()\u001b[0m\n\u001b[0;32m----> 1\u001b[0;31m \u001b[0mpipeline\u001b[0m\u001b[0;34m.\u001b[0m\u001b[0mpredict\u001b[0m\u001b[0;34m(\u001b[0m\u001b[0mmeat_X\u001b[0m\u001b[0;34m[\u001b[0m\u001b[0;34m-\u001b[0m\u001b[0;36m10\u001b[0m\u001b[0;34m:\u001b[0m\u001b[0;34m]\u001b[0m\u001b[0;34m)\u001b[0m\u001b[0;34m\u001b[0m\u001b[0m\n\u001b[0m",
      "\u001b[0;32m/anaconda/envs/sarah_thinkful/lib/python3.6/site-packages/sklearn/utils/metaestimators.py\u001b[0m in \u001b[0;36m<lambda>\u001b[0;34m(*args, **kwargs)\u001b[0m\n\u001b[1;32m    113\u001b[0m \u001b[0;34m\u001b[0m\u001b[0m\n\u001b[1;32m    114\u001b[0m         \u001b[0;31m# lambda, but not partial, allows help() to work with update_wrapper\u001b[0m\u001b[0;34m\u001b[0m\u001b[0;34m\u001b[0m\u001b[0m\n\u001b[0;32m--> 115\u001b[0;31m         \u001b[0mout\u001b[0m \u001b[0;34m=\u001b[0m \u001b[0;32mlambda\u001b[0m \u001b[0;34m*\u001b[0m\u001b[0margs\u001b[0m\u001b[0;34m,\u001b[0m \u001b[0;34m**\u001b[0m\u001b[0mkwargs\u001b[0m\u001b[0;34m:\u001b[0m \u001b[0mself\u001b[0m\u001b[0;34m.\u001b[0m\u001b[0mfn\u001b[0m\u001b[0;34m(\u001b[0m\u001b[0mobj\u001b[0m\u001b[0;34m,\u001b[0m \u001b[0;34m*\u001b[0m\u001b[0margs\u001b[0m\u001b[0;34m,\u001b[0m \u001b[0;34m**\u001b[0m\u001b[0mkwargs\u001b[0m\u001b[0;34m)\u001b[0m\u001b[0;34m\u001b[0m\u001b[0m\n\u001b[0m\u001b[1;32m    116\u001b[0m         \u001b[0;31m# update the docstring of the returned function\u001b[0m\u001b[0;34m\u001b[0m\u001b[0;34m\u001b[0m\u001b[0m\n\u001b[1;32m    117\u001b[0m         \u001b[0mupdate_wrapper\u001b[0m\u001b[0;34m(\u001b[0m\u001b[0mout\u001b[0m\u001b[0;34m,\u001b[0m \u001b[0mself\u001b[0m\u001b[0;34m.\u001b[0m\u001b[0mfn\u001b[0m\u001b[0;34m)\u001b[0m\u001b[0;34m\u001b[0m\u001b[0m\n",
      "\u001b[0;32m~/Thinkful/skits/skits/pipeline.py\u001b[0m in \u001b[0;36mpredict\u001b[0;34m(self, X, to_scale, refit, start_idx)\u001b[0m\n\u001b[1;32m    212\u001b[0m                     \u001b[0mXt\u001b[0m \u001b[0;34m=\u001b[0m \u001b[0mtransform\u001b[0m\u001b[0;34m.\u001b[0m\u001b[0mtransform\u001b[0m\u001b[0;34m(\u001b[0m\u001b[0mXt\u001b[0m\u001b[0;34m,\u001b[0m \u001b[0mrefit\u001b[0m\u001b[0;34m=\u001b[0m\u001b[0;32mTrue\u001b[0m\u001b[0;34m)\u001b[0m\u001b[0;34m\u001b[0m\u001b[0m\n\u001b[1;32m    213\u001b[0m                 \u001b[0;32melse\u001b[0m\u001b[0;34m:\u001b[0m\u001b[0;34m\u001b[0m\u001b[0m\n\u001b[0;32m--> 214\u001b[0;31m                     \u001b[0mXt\u001b[0m \u001b[0;34m=\u001b[0m \u001b[0mtransform\u001b[0m\u001b[0;34m.\u001b[0m\u001b[0mtransform\u001b[0m\u001b[0;34m(\u001b[0m\u001b[0mXt\u001b[0m\u001b[0;34m)\u001b[0m\u001b[0;34m\u001b[0m\u001b[0m\n\u001b[0m\u001b[1;32m    215\u001b[0m \u001b[0;34m\u001b[0m\u001b[0m\n\u001b[1;32m    216\u001b[0m         \u001b[0mprediction\u001b[0m \u001b[0;34m=\u001b[0m \u001b[0mself\u001b[0m\u001b[0;34m.\u001b[0m\u001b[0msteps\u001b[0m\u001b[0;34m[\u001b[0m\u001b[0;34m-\u001b[0m\u001b[0;36m1\u001b[0m\u001b[0;34m]\u001b[0m\u001b[0;34m[\u001b[0m\u001b[0;34m-\u001b[0m\u001b[0;36m1\u001b[0m\u001b[0;34m]\u001b[0m\u001b[0;34m.\u001b[0m\u001b[0mpredict\u001b[0m\u001b[0;34m(\u001b[0m\u001b[0mXt\u001b[0m\u001b[0;34m)\u001b[0m\u001b[0;34m\u001b[0m\u001b[0m\n",
      "\u001b[0;32m/anaconda/envs/sarah_thinkful/lib/python3.6/site-packages/sklearn/preprocessing/data.py\u001b[0m in \u001b[0;36mtransform\u001b[0;34m(self, X, y, copy)\u001b[0m\n\u001b[1;32m    679\u001b[0m         \u001b[0mcopy\u001b[0m \u001b[0;34m=\u001b[0m \u001b[0mcopy\u001b[0m \u001b[0;32mif\u001b[0m \u001b[0mcopy\u001b[0m \u001b[0;32mis\u001b[0m \u001b[0;32mnot\u001b[0m \u001b[0;32mNone\u001b[0m \u001b[0;32melse\u001b[0m \u001b[0mself\u001b[0m\u001b[0;34m.\u001b[0m\u001b[0mcopy\u001b[0m\u001b[0;34m\u001b[0m\u001b[0m\n\u001b[1;32m    680\u001b[0m         X = check_array(X, accept_sparse='csr', copy=copy, warn_on_dtype=True,\n\u001b[0;32m--> 681\u001b[0;31m                         estimator=self, dtype=FLOAT_DTYPES)\n\u001b[0m\u001b[1;32m    682\u001b[0m \u001b[0;34m\u001b[0m\u001b[0m\n\u001b[1;32m    683\u001b[0m         \u001b[0;32mif\u001b[0m \u001b[0msparse\u001b[0m\u001b[0;34m.\u001b[0m\u001b[0missparse\u001b[0m\u001b[0;34m(\u001b[0m\u001b[0mX\u001b[0m\u001b[0;34m)\u001b[0m\u001b[0;34m:\u001b[0m\u001b[0;34m\u001b[0m\u001b[0m\n",
      "\u001b[0;32m/anaconda/envs/sarah_thinkful/lib/python3.6/site-packages/sklearn/utils/validation.py\u001b[0m in \u001b[0;36mcheck_array\u001b[0;34m(array, accept_sparse, dtype, order, copy, force_all_finite, ensure_2d, allow_nd, ensure_min_samples, ensure_min_features, warn_on_dtype, estimator)\u001b[0m\n\u001b[1;32m    451\u001b[0m                              % (array.ndim, estimator_name))\n\u001b[1;32m    452\u001b[0m         \u001b[0;32mif\u001b[0m \u001b[0mforce_all_finite\u001b[0m\u001b[0;34m:\u001b[0m\u001b[0;34m\u001b[0m\u001b[0m\n\u001b[0;32m--> 453\u001b[0;31m             \u001b[0m_assert_all_finite\u001b[0m\u001b[0;34m(\u001b[0m\u001b[0marray\u001b[0m\u001b[0;34m)\u001b[0m\u001b[0;34m\u001b[0m\u001b[0m\n\u001b[0m\u001b[1;32m    454\u001b[0m \u001b[0;34m\u001b[0m\u001b[0m\n\u001b[1;32m    455\u001b[0m     \u001b[0mshape_repr\u001b[0m \u001b[0;34m=\u001b[0m \u001b[0m_shape_repr\u001b[0m\u001b[0;34m(\u001b[0m\u001b[0marray\u001b[0m\u001b[0;34m.\u001b[0m\u001b[0mshape\u001b[0m\u001b[0;34m)\u001b[0m\u001b[0;34m\u001b[0m\u001b[0m\n",
      "\u001b[0;32m/anaconda/envs/sarah_thinkful/lib/python3.6/site-packages/sklearn/utils/validation.py\u001b[0m in \u001b[0;36m_assert_all_finite\u001b[0;34m(X)\u001b[0m\n\u001b[1;32m     42\u001b[0m             and not np.isfinite(X).all()):\n\u001b[1;32m     43\u001b[0m         raise ValueError(\"Input contains NaN, infinity\"\n\u001b[0;32m---> 44\u001b[0;31m                          \" or a value too large for %r.\" % X.dtype)\n\u001b[0m\u001b[1;32m     45\u001b[0m \u001b[0;34m\u001b[0m\u001b[0m\n\u001b[1;32m     46\u001b[0m \u001b[0;34m\u001b[0m\u001b[0m\n",
      "\u001b[0;31mValueError\u001b[0m: Input contains NaN, infinity or a value too large for dtype('float64')."
     ]
    }
   ],
   "source": [
    "pipeline.predict(meat_X[-10:])"
   ]
  },
  {
   "cell_type": "code",
   "execution_count": null,
   "metadata": {
    "collapsed": true,
    "scrolled": false
   },
   "outputs": [],
   "source": [
    "from tsfresh import extract_relevant_features\n",
    "extracted_features = extract_relevant_features(tsfresh_data2, tsfresh_data2, column_id='variable')\n"
   ]
  },
  {
   "cell_type": "code",
   "execution_count": 13,
   "metadata": {
    "collapsed": true
   },
   "outputs": [],
   "source": [
    "# training set up to 2016\n",
    "train = indexed_df.loc['1990':'2016']\n",
    "test = indexed_df.loc['2017':'2018']"
   ]
  },
  {
   "cell_type": "code",
   "execution_count": 39,
   "metadata": {},
   "outputs": [
    {
     "data": {
      "text/html": [
       "<div>\n",
       "<style scoped>\n",
       "    .dataframe tbody tr th:only-of-type {\n",
       "        vertical-align: middle;\n",
       "    }\n",
       "\n",
       "    .dataframe tbody tr th {\n",
       "        vertical-align: top;\n",
       "    }\n",
       "\n",
       "    .dataframe thead th {\n",
       "        text-align: right;\n",
       "    }\n",
       "</style>\n",
       "<table border=\"1\" class=\"dataframe\">\n",
       "  <thead>\n",
       "    <tr style=\"text-align: right;\">\n",
       "      <th></th>\n",
       "      <th>Meat Price Index</th>\n",
       "      <th>Dairy Price Index</th>\n",
       "      <th>Cereals Price Index</th>\n",
       "      <th>Oils Price Index</th>\n",
       "      <th>Sugar Price Index</th>\n",
       "      <th>Temperature</th>\n",
       "    </tr>\n",
       "    <tr>\n",
       "      <th>Date</th>\n",
       "      <th></th>\n",
       "      <th></th>\n",
       "      <th></th>\n",
       "      <th></th>\n",
       "      <th></th>\n",
       "      <th></th>\n",
       "    </tr>\n",
       "  </thead>\n",
       "  <tbody>\n",
       "    <tr>\n",
       "      <th>2018-02-01</th>\n",
       "      <td>170.3</td>\n",
       "      <td>191.1</td>\n",
       "      <td>161.3</td>\n",
       "      <td>158.0</td>\n",
       "      <td>192.4</td>\n",
       "      <td>0.81</td>\n",
       "    </tr>\n",
       "    <tr>\n",
       "      <th>2018-03-01</th>\n",
       "      <td>171.0</td>\n",
       "      <td>197.4</td>\n",
       "      <td>165.4</td>\n",
       "      <td>156.8</td>\n",
       "      <td>185.5</td>\n",
       "      <td>0.91</td>\n",
       "    </tr>\n",
       "    <tr>\n",
       "      <th>2018-04-01</th>\n",
       "      <td>170.4</td>\n",
       "      <td>204.1</td>\n",
       "      <td>168.5</td>\n",
       "      <td>154.6</td>\n",
       "      <td>176.1</td>\n",
       "      <td>0.87</td>\n",
       "    </tr>\n",
       "    <tr>\n",
       "      <th>2018-05-01</th>\n",
       "      <td>169.3</td>\n",
       "      <td>215.2</td>\n",
       "      <td>172.6</td>\n",
       "      <td>150.6</td>\n",
       "      <td>175.3</td>\n",
       "      <td>0.82</td>\n",
       "    </tr>\n",
       "    <tr>\n",
       "      <th>2018-06-01</th>\n",
       "      <td>169.8</td>\n",
       "      <td>213.2</td>\n",
       "      <td>166.2</td>\n",
       "      <td>146.1</td>\n",
       "      <td>177.4</td>\n",
       "      <td>0.76</td>\n",
       "    </tr>\n",
       "  </tbody>\n",
       "</table>\n",
       "</div>"
      ],
      "text/plain": [
       "            Meat Price Index  Dairy Price Index  Cereals Price Index  \\\n",
       "Date                                                                   \n",
       "2018-02-01             170.3              191.1                161.3   \n",
       "2018-03-01             171.0              197.4                165.4   \n",
       "2018-04-01             170.4              204.1                168.5   \n",
       "2018-05-01             169.3              215.2                172.6   \n",
       "2018-06-01             169.8              213.2                166.2   \n",
       "\n",
       "            Oils Price Index  Sugar Price Index  Temperature  \n",
       "Date                                                          \n",
       "2018-02-01             158.0              192.4         0.81  \n",
       "2018-03-01             156.8              185.5         0.91  \n",
       "2018-04-01             154.6              176.1         0.87  \n",
       "2018-05-01             150.6              175.3         0.82  \n",
       "2018-06-01             146.1              177.4         0.76  "
      ]
     },
     "execution_count": 39,
     "metadata": {},
     "output_type": "execute_result"
    }
   ],
   "source": [
    "test.tail()"
   ]
  },
  {
   "cell_type": "code",
   "execution_count": null,
   "metadata": {
    "collapsed": true
   },
   "outputs": [],
   "source": []
  },
  {
   "cell_type": "code",
   "execution_count": null,
   "metadata": {
    "collapsed": true
   },
   "outputs": [],
   "source": []
  },
  {
   "cell_type": "markdown",
   "metadata": {},
   "source": [
    "# Unsupervised learning"
   ]
  },
  {
   "cell_type": "code",
   "execution_count": 26,
   "metadata": {
    "scrolled": true
   },
   "outputs": [
    {
     "data": {
      "text/plain": [
       "array([[-1.04221151e+05, -4.62528596e+05, -6.83804901e+03],\n",
       "       [ 8.74211990e+05, -3.59700070e+05,  6.66161243e+04],\n",
       "       [-1.66215922e+06, -8.38462307e+05, -3.31131400e+04],\n",
       "       [-2.87006236e+05, -4.11288812e+05, -1.33943017e+04],\n",
       "       [ 1.09092426e+07,  9.16457584e+05, -1.19653711e+04],\n",
       "       [-9.73006800e+06,  1.15552220e+06, -1.30526249e+03]])"
      ]
     },
     "execution_count": 26,
     "metadata": {},
     "output_type": "execute_result"
    }
   ],
   "source": [
    "# trying pca woo\n",
    "test_pca = PCA(n_components=3)\n",
    "test_pca.fit(extracted_features)\n",
    "test_pca.transform(extracted_features)"
   ]
  },
  {
   "cell_type": "code",
   "execution_count": null,
   "metadata": {
    "collapsed": true
   },
   "outputs": [],
   "source": []
  },
  {
   "cell_type": "code",
   "execution_count": null,
   "metadata": {
    "collapsed": true
   },
   "outputs": [],
   "source": [
    "# do some kind of unsupervised learning here"
   ]
  },
  {
   "cell_type": "code",
   "execution_count": null,
   "metadata": {
    "collapsed": true
   },
   "outputs": [],
   "source": [
    "# using tsfresh for feature generation, then PCA for unsupervised learning req"
   ]
  },
  {
   "cell_type": "markdown",
   "metadata": {},
   "source": [
    "# Supervised Learning"
   ]
  },
  {
   "cell_type": "code",
   "execution_count": 15,
   "metadata": {
    "collapsed": true
   },
   "outputs": [],
   "source": [
    "from Capstone.models import modeling"
   ]
  },
  {
   "cell_type": "code",
   "execution_count": 18,
   "metadata": {
    "collapsed": true
   },
   "outputs": [],
   "source": [
    "params = {'lags': 2, 'diffs': 1, 'ma': 12}"
   ]
  },
  {
   "cell_type": "code",
   "execution_count": 13,
   "metadata": {
    "collapsed": true
   },
   "outputs": [],
   "source": [
    "pfarima_model = pf.ARIMA(data=train, target='Sugar Price Index', ar=2, ma=12, integ=1, family=pf.Normal())\n",
    "#pfvar_model = pf.VAR(data=train, lags=2, integ=1)"
   ]
  },
  {
   "cell_type": "code",
   "execution_count": 14,
   "metadata": {},
   "outputs": [
    {
     "name": "stdout",
     "output_type": "stream",
     "text": [
      "Acceptance rate of Metropolis-Hastings is 0.07275\n",
      "Acceptance rate of Metropolis-Hastings is 0.41935\n",
      "Acceptance rate of Metropolis-Hastings is 0.2919\n",
      "\n",
      "Tuning complete! Now sampling.\n",
      "Acceptance rate of Metropolis-Hastings is 0.292025\n"
     ]
    },
    {
     "data": {
      "text/plain": [
       "<pyflux.results.MCMCResults at 0x10f772b00>"
      ]
     },
     "execution_count": 14,
     "metadata": {},
     "output_type": "execute_result"
    }
   ],
   "source": [
    "pfarima_model.fit(\"M-H\")"
   ]
  },
  {
   "cell_type": "code",
   "execution_count": 15,
   "metadata": {
    "collapsed": true
   },
   "outputs": [],
   "source": [
    "arima_yhat = pfarima_model.predict(h=12)\n",
    "#var_yhat = pfvar_model.predict(h=3)"
   ]
  },
  {
   "cell_type": "code",
   "execution_count": 16,
   "metadata": {},
   "outputs": [
    {
     "data": {
      "text/html": [
       "<div>\n",
       "<style scoped>\n",
       "    .dataframe tbody tr th:only-of-type {\n",
       "        vertical-align: middle;\n",
       "    }\n",
       "\n",
       "    .dataframe tbody tr th {\n",
       "        vertical-align: top;\n",
       "    }\n",
       "\n",
       "    .dataframe thead th {\n",
       "        text-align: right;\n",
       "    }\n",
       "</style>\n",
       "<table border=\"1\" class=\"dataframe\">\n",
       "  <thead>\n",
       "    <tr style=\"text-align: right;\">\n",
       "      <th></th>\n",
       "      <th>Differenced Sugar Price Index</th>\n",
       "    </tr>\n",
       "    <tr>\n",
       "      <th>Date</th>\n",
       "      <th></th>\n",
       "    </tr>\n",
       "  </thead>\n",
       "  <tbody>\n",
       "    <tr>\n",
       "      <th>2016-12-26</th>\n",
       "      <td>-17.634198</td>\n",
       "    </tr>\n",
       "    <tr>\n",
       "      <th>2017-01-26</th>\n",
       "      <td>-4.749363</td>\n",
       "    </tr>\n",
       "    <tr>\n",
       "      <th>2017-02-24</th>\n",
       "      <td>2.952545</td>\n",
       "    </tr>\n",
       "    <tr>\n",
       "      <th>2017-03-27</th>\n",
       "      <td>-3.322794</td>\n",
       "    </tr>\n",
       "    <tr>\n",
       "      <th>2017-04-26</th>\n",
       "      <td>3.420281</td>\n",
       "    </tr>\n",
       "    <tr>\n",
       "      <th>2017-05-27</th>\n",
       "      <td>8.708049</td>\n",
       "    </tr>\n",
       "    <tr>\n",
       "      <th>2017-06-26</th>\n",
       "      <td>4.755249</td>\n",
       "    </tr>\n",
       "    <tr>\n",
       "      <th>2017-07-27</th>\n",
       "      <td>2.968983</td>\n",
       "    </tr>\n",
       "    <tr>\n",
       "      <th>2017-08-27</th>\n",
       "      <td>4.872185</td>\n",
       "    </tr>\n",
       "    <tr>\n",
       "      <th>2017-09-26</th>\n",
       "      <td>1.444780</td>\n",
       "    </tr>\n",
       "    <tr>\n",
       "      <th>2017-10-27</th>\n",
       "      <td>-4.794469</td>\n",
       "    </tr>\n",
       "    <tr>\n",
       "      <th>2017-11-26</th>\n",
       "      <td>-3.686342</td>\n",
       "    </tr>\n",
       "  </tbody>\n",
       "</table>\n",
       "</div>"
      ],
      "text/plain": [
       "            Differenced Sugar Price Index\n",
       "Date                                     \n",
       "2016-12-26                     -17.634198\n",
       "2017-01-26                      -4.749363\n",
       "2017-02-24                       2.952545\n",
       "2017-03-27                      -3.322794\n",
       "2017-04-26                       3.420281\n",
       "2017-05-27                       8.708049\n",
       "2017-06-26                       4.755249\n",
       "2017-07-27                       2.968983\n",
       "2017-08-27                       4.872185\n",
       "2017-09-26                       1.444780\n",
       "2017-10-27                      -4.794469\n",
       "2017-11-26                      -3.686342"
      ]
     },
     "execution_count": 16,
     "metadata": {},
     "output_type": "execute_result"
    }
   ],
   "source": [
    "arima_yhat"
   ]
  },
  {
   "cell_type": "code",
   "execution_count": 37,
   "metadata": {},
   "outputs": [
    {
     "data": {
      "text/plain": [
       "[<matplotlib.lines.Line2D at 0x10e4cc278>]"
      ]
     },
     "execution_count": 37,
     "metadata": {},
     "output_type": "execute_result"
    },
    {
     "data": {
      "image/png": "[encoded data removed]",
      "text/plain": [
       "<Figure size 432x288 with 1 Axes>"
      ]
     },
     "metadata": {
      "needs_background": "light"
     },
     "output_type": "display_data"
    }
   ],
   "source": [
    "plt.plot(arima_yhat)\n",
    "plt.plot(diff_test['Sugar Price Index'], '.')"
   ]
  },
  {
   "cell_type": "code",
   "execution_count": 33,
   "metadata": {},
   "outputs": [
    {
     "data": {
      "text/plain": [
       "Date\n",
       "2017-01-01     NaN\n",
       "2017-02-01    -0.6\n",
       "2017-03-01   -31.4\n",
       "2017-04-01   -23.2\n",
       "2017-05-01    -5.4\n",
       "2017-06-01   -30.6\n",
       "2017-07-01    10.2\n",
       "2017-08-01    -3.6\n",
       "2017-09-01     0.3\n",
       "2017-10-01    -0.7\n",
       "2017-11-01     9.2\n",
       "2017-12-01    -8.6\n",
       "2018-01-01    -4.2\n",
       "2018-02-01    -7.5\n",
       "2018-03-01    -6.9\n",
       "2018-04-01    -9.4\n",
       "2018-05-01    -0.8\n",
       "2018-06-01     2.1\n",
       "Name: Sugar Price Index, dtype: float64"
      ]
     },
     "execution_count": 33,
     "metadata": {},
     "output_type": "execute_result"
    }
   ],
   "source": [
    "diff_test = test.diff()\n",
    "\n",
    "diff_test['Sugar Price Index']"
   ]
  },
  {
   "cell_type": "code",
   "execution_count": 14,
   "metadata": {
    "collapsed": true
   },
   "outputs": [],
   "source": [
    "from sklearn.metrics import mean_squared_error\n",
    "from statsmodels.tsa.arima_model import ARIMA\n",
    "\n",
    "def evaluate_arima_model(X, arima_order):\n",
    "    # prepare training dataset\n",
    "    train_size = int(len(X) * 0.66)\n",
    "    train, test = X[0:train_size], X[train_size:]\n",
    "    history = [x for x in train]\n",
    "    # make predictions\n",
    "    predictions = list()\n",
    "    for t in range(len(test)):\n",
    "        model = ARIMA(history, order=arima_order)\n",
    "        model_fit = model.fit(disp=0)\n",
    "        yhat = model_fit.forecast()[0]\n",
    "        predictions.append(yhat)\n",
    "        history.append(test[t])\n",
    "    # calculate out of sample error\n",
    "    error = mean_squared_error(test, predictions)\n",
    "    return error"
   ]
  },
  {
   "cell_type": "code",
   "execution_count": 15,
   "metadata": {
    "collapsed": true
   },
   "outputs": [],
   "source": [
    "def evaluate_models(dataset, p_values, d_values, q_values):\n",
    "    dataset = dataset.astype('float32')\n",
    "    best_score, best_cfg = float(\"inf\"), None\n",
    "    for p in p_values:\n",
    "        for d in d_values:\n",
    "            for q in q_values:\n",
    "                order = (p,d,q)\n",
    "                try:\n",
    "                    mse = evaluate_arima_model(dataset, order)\n",
    "                    if mse < best_score:\n",
    "                        best_score, best_cfg = mse, order\n",
    "                    print('ARIMA%s MSE=%.3f' % (order,mse))\n",
    "                except:\n",
    "                    continue\n",
    "    print('Best ARIMA%s MSE=%.3f' % (best_cfg, best_score))"
   ]
  },
  {
   "cell_type": "code",
   "execution_count": 16,
   "metadata": {
    "collapsed": true
   },
   "outputs": [],
   "source": [
    "p_values = [0, 1, 4, 6, 8, 10, 12]\n",
    "d_values = range(0, 3)\n",
    "q_values = range(0, 3)\n",
    "warnings.filterwarnings(\"ignore\")"
   ]
  },
  {
   "cell_type": "code",
   "execution_count": 15,
   "metadata": {},
   "outputs": [
    {
     "name": "stdout",
     "output_type": "stream",
     "text": [
      "ARIMA(0, 0, 0) MSE=2164.167\n",
      "ARIMA(0, 0, 1) MSE=619.085\n",
      "ARIMA(0, 1, 0) MSE=19.771\n",
      "ARIMA(0, 1, 1) MSE=17.933\n",
      "ARIMA(0, 1, 2) MSE=16.319\n",
      "ARIMA(0, 2, 0) MSE=18.010\n",
      "ARIMA(0, 2, 1) MSE=21.501\n",
      "ARIMA(1, 0, 0) MSE=19.715\n",
      "ARIMA(1, 1, 0) MSE=17.204\n",
      "ARIMA(1, 2, 0) MSE=17.513\n",
      "ARIMA(1, 2, 1) MSE=18.573\n",
      "ARIMA(1, 2, 2) MSE=18.845\n",
      "ARIMA(2, 0, 0) MSE=17.094\n",
      "ARIMA(2, 1, 0) MSE=16.380\n",
      "ARIMA(2, 1, 1) MSE=16.935\n",
      "ARIMA(2, 2, 0) MSE=19.910\n",
      "ARIMA(2, 2, 1) MSE=17.311\n",
      "ARIMA(4, 0, 0) MSE=16.679\n",
      "ARIMA(4, 1, 0) MSE=16.054\n",
      "ARIMA(4, 1, 1) MSE=16.366\n",
      "ARIMA(4, 2, 0) MSE=21.529\n",
      "ARIMA(4, 2, 1) MSE=16.516\n",
      "ARIMA(6, 0, 0) MSE=15.763\n",
      "ARIMA(6, 1, 0) MSE=15.952\n",
      "ARIMA(6, 1, 1) MSE=15.922\n",
      "ARIMA(6, 2, 0) MSE=21.485\n",
      "ARIMA(6, 2, 1) MSE=16.397\n",
      "ARIMA(8, 1, 0) MSE=15.737\n",
      "ARIMA(8, 1, 1) MSE=15.882\n",
      "ARIMA(8, 2, 0) MSE=19.093\n",
      "ARIMA(8, 2, 1) MSE=16.700\n",
      "ARIMA(10, 1, 0) MSE=15.717\n",
      "ARIMA(10, 1, 1) MSE=16.129\n",
      "ARIMA(10, 2, 0) MSE=17.801\n",
      "ARIMA(12, 0, 0) MSE=15.883\n",
      "ARIMA(12, 1, 0) MSE=16.347\n",
      "ARIMA(12, 1, 1) MSE=16.039\n",
      "ARIMA(12, 2, 0) MSE=17.732\n",
      "Best ARIMA(10, 1, 0) MSE=15.717\n"
     ]
    }
   ],
   "source": [
    "evaluate_models(indexed_df['Meat Price Index'].values, p_values, d_values, q_values)"
   ]
  },
  {
   "cell_type": "code",
   "execution_count": 17,
   "metadata": {},
   "outputs": [
    {
     "name": "stdout",
     "output_type": "stream",
     "text": [
      "ARIMA(0, 0, 0) MSE=13351.405\n",
      "ARIMA(0, 0, 1) MSE=3825.773\n",
      "ARIMA(0, 1, 0) MSE=442.289\n",
      "ARIMA(0, 1, 1) MSE=383.679\n",
      "ARIMA(0, 1, 2) MSE=387.320\n",
      "ARIMA(0, 2, 0) MSE=578.035\n",
      "ARIMA(0, 2, 1) MSE=479.820\n",
      "ARIMA(0, 2, 2) MSE=389.157\n",
      "ARIMA(1, 0, 0) MSE=445.895\n",
      "ARIMA(1, 0, 2) MSE=391.136\n",
      "ARIMA(1, 1, 0) MSE=393.240\n",
      "ARIMA(1, 1, 1) MSE=387.880\n",
      "ARIMA(1, 2, 0) MSE=570.825\n",
      "ARIMA(1, 2, 2) MSE=392.965\n",
      "ARIMA(4, 0, 0) MSE=402.168\n",
      "ARIMA(4, 1, 0) MSE=397.253\n",
      "ARIMA(4, 2, 0) MSE=477.886\n",
      "ARIMA(6, 0, 0) MSE=410.140\n",
      "ARIMA(6, 0, 1) MSE=410.708\n",
      "ARIMA(6, 1, 0) MSE=407.524\n",
      "ARIMA(6, 2, 0) MSE=494.536\n",
      "ARIMA(8, 0, 0) MSE=425.768\n",
      "ARIMA(8, 1, 0) MSE=420.714\n",
      "ARIMA(8, 2, 0) MSE=495.485\n",
      "ARIMA(10, 0, 0) MSE=430.878\n",
      "ARIMA(10, 1, 0) MSE=427.126\n",
      "ARIMA(10, 2, 0) MSE=481.801\n",
      "ARIMA(10, 2, 1) MSE=431.666\n",
      "ARIMA(12, 0, 0) MSE=435.997\n",
      "ARIMA(12, 1, 0) MSE=425.639\n",
      "ARIMA(12, 2, 0) MSE=459.959\n",
      "Best ARIMA(0, 1, 1) MSE=383.679\n"
     ]
    }
   ],
   "source": [
    "evaluate_models(indexed_df['Sugar Price Index'].values, p_values, d_values, q_values)\n"
   ]
  },
  {
   "cell_type": "code",
   "execution_count": 30,
   "metadata": {},
   "outputs": [
    {
     "name": "stdout",
     "output_type": "stream",
     "text": [
      "ARIMA(0, 0, 0) MSE=5070.353\n",
      "ARIMA(0, 0, 1) MSE=1435.087\n",
      "ARIMA(0, 1, 0) MSE=96.254\n",
      "ARIMA(0, 1, 1) MSE=86.371\n",
      "ARIMA(0, 1, 2) MSE=85.462\n",
      "ARIMA(0, 2, 0) MSE=117.579\n",
      "ARIMA(0, 2, 1) MSE=99.086\n",
      "ARIMA(0, 2, 2) MSE=96.773\n",
      "ARIMA(1, 0, 0) MSE=95.426\n",
      "ARIMA(1, 0, 1) MSE=85.991\n",
      "ARIMA(1, 0, 2) MSE=85.106\n",
      "ARIMA(1, 1, 0) MSE=81.964\n",
      "ARIMA(1, 1, 1) MSE=86.965\n",
      "ARIMA(1, 2, 0) MSE=107.255\n",
      "ARIMA(1, 2, 2) MSE=95.309\n",
      "ARIMA(4, 0, 0) MSE=93.793\n",
      "ARIMA(4, 1, 0) MSE=94.875\n",
      "ARIMA(4, 1, 1) MSE=95.340\n",
      "ARIMA(4, 1, 2) MSE=98.165\n",
      "ARIMA(4, 2, 0) MSE=113.175\n",
      "ARIMA(4, 2, 1) MSE=113.484\n",
      "ARIMA(6, 1, 0) MSE=95.057\n",
      "ARIMA(6, 1, 1) MSE=91.468\n",
      "ARIMA(6, 2, 0) MSE=117.917\n",
      "ARIMA(6, 2, 1) MSE=106.538\n",
      "ARIMA(6, 2, 2) MSE=102.384\n",
      "ARIMA(8, 1, 0) MSE=98.529\n",
      "ARIMA(8, 2, 0) MSE=119.353\n",
      "ARIMA(8, 2, 1) MSE=107.571\n",
      "ARIMA(8, 2, 2) MSE=117.907\n",
      "ARIMA(10, 2, 0) MSE=110.326\n",
      "ARIMA(12, 1, 0) MSE=101.953\n",
      "ARIMA(12, 2, 0) MSE=115.709\n",
      "Best ARIMA(1, 1, 0) MSE=81.964\n"
     ]
    }
   ],
   "source": [
    "evaluate_models(indexed_df['Oils Price Index'].values, p_values, d_values, q_values)\n"
   ]
  },
  {
   "cell_type": "code",
   "execution_count": 31,
   "metadata": {},
   "outputs": [
    {
     "name": "stdout",
     "output_type": "stream",
     "text": [
      "ARIMA(0, 0, 0) MSE=5072.801\n",
      "ARIMA(0, 0, 1) MSE=1433.610\n",
      "ARIMA(0, 1, 0) MSE=67.443\n",
      "ARIMA(0, 1, 1) MSE=61.953\n",
      "ARIMA(0, 1, 2) MSE=59.856\n",
      "ARIMA(0, 2, 0) MSE=87.678\n",
      "ARIMA(0, 2, 1) MSE=68.793\n",
      "ARIMA(0, 2, 2) MSE=73.606\n",
      "ARIMA(1, 0, 0) MSE=66.647\n",
      "ARIMA(1, 0, 2) MSE=59.553\n",
      "ARIMA(1, 1, 0) MSE=60.060\n",
      "ARIMA(1, 1, 1) MSE=60.012\n",
      "ARIMA(1, 1, 2) MSE=60.287\n",
      "ARIMA(1, 2, 0) MSE=75.742\n",
      "ARIMA(1, 2, 1) MSE=61.989\n",
      "ARIMA(1, 2, 2) MSE=62.125\n",
      "ARIMA(4, 0, 0) MSE=61.408\n",
      "ARIMA(4, 0, 1) MSE=64.270\n",
      "ARIMA(4, 1, 0) MSE=61.453\n",
      "ARIMA(4, 1, 1) MSE=62.688\n",
      "ARIMA(4, 2, 0) MSE=72.554\n",
      "ARIMA(4, 2, 1) MSE=63.173\n",
      "ARIMA(4, 2, 2) MSE=65.324\n",
      "ARIMA(6, 0, 0) MSE=64.117\n",
      "ARIMA(6, 0, 1) MSE=64.578\n",
      "ARIMA(6, 1, 0) MSE=63.510\n",
      "ARIMA(6, 1, 1) MSE=64.959\n",
      "ARIMA(6, 2, 0) MSE=73.022\n",
      "ARIMA(6, 2, 2) MSE=66.779\n",
      "ARIMA(8, 0, 0) MSE=65.434\n",
      "ARIMA(8, 0, 1) MSE=65.302\n",
      "ARIMA(8, 1, 0) MSE=65.683\n",
      "ARIMA(8, 1, 1) MSE=66.309\n",
      "ARIMA(8, 2, 0) MSE=76.038\n",
      "ARIMA(8, 2, 2) MSE=67.955\n",
      "ARIMA(10, 0, 0) MSE=67.264\n",
      "ARIMA(10, 0, 1) MSE=67.312\n",
      "ARIMA(10, 1, 0) MSE=67.821\n",
      "ARIMA(10, 1, 1) MSE=69.245\n",
      "ARIMA(10, 2, 0) MSE=76.090\n",
      "ARIMA(10, 2, 1) MSE=76.881\n",
      "ARIMA(12, 0, 0) MSE=71.257\n",
      "ARIMA(12, 1, 0) MSE=68.909\n",
      "ARIMA(12, 1, 1) MSE=69.401\n",
      "ARIMA(12, 2, 0) MSE=80.126\n",
      "ARIMA(12, 2, 1) MSE=77.704\n",
      "Best ARIMA(1, 0, 2) MSE=59.553\n"
     ]
    }
   ],
   "source": [
    "evaluate_models(indexed_df['Cereals Price Index'].values, p_values, d_values, q_values)\n"
   ]
  },
  {
   "cell_type": "code",
   "execution_count": 32,
   "metadata": {},
   "outputs": [
    {
     "name": "stdout",
     "output_type": "stream",
     "text": [
      "ARIMA(0, 0, 0) MSE=5998.958\n",
      "ARIMA(0, 0, 1) MSE=1593.119\n",
      "ARIMA(0, 1, 0) MSE=111.099\n",
      "ARIMA(0, 1, 1) MSE=81.258\n",
      "ARIMA(0, 1, 2) MSE=83.924\n",
      "ARIMA(0, 2, 0) MSE=104.083\n",
      "ARIMA(0, 2, 1) MSE=103.773\n",
      "ARIMA(0, 2, 2) MSE=99.044\n",
      "ARIMA(1, 0, 0) MSE=110.859\n",
      "ARIMA(1, 0, 1) MSE=80.841\n",
      "ARIMA(1, 0, 2) MSE=83.669\n",
      "ARIMA(1, 1, 0) MSE=81.284\n",
      "ARIMA(1, 1, 1) MSE=84.335\n",
      "ARIMA(1, 1, 2) MSE=89.716\n",
      "ARIMA(1, 2, 0) MSE=112.569\n",
      "ARIMA(4, 1, 0) MSE=90.384\n",
      "ARIMA(4, 2, 0) MSE=104.493\n",
      "ARIMA(4, 2, 1) MSE=98.007\n",
      "ARIMA(6, 1, 0) MSE=92.379\n",
      "ARIMA(6, 1, 1) MSE=90.937\n",
      "ARIMA(6, 2, 0) MSE=104.344\n",
      "ARIMA(6, 2, 1) MSE=99.228\n",
      "ARIMA(8, 1, 0) MSE=94.102\n",
      "ARIMA(8, 2, 0) MSE=104.945\n",
      "ARIMA(8, 2, 1) MSE=106.861\n",
      "ARIMA(10, 1, 0) MSE=97.620\n",
      "ARIMA(10, 2, 0) MSE=107.733\n",
      "ARIMA(10, 2, 1) MSE=107.009\n",
      "ARIMA(10, 2, 2) MSE=109.358\n",
      "ARIMA(12, 2, 0) MSE=109.344\n",
      "ARIMA(12, 2, 1) MSE=100.619\n",
      "Best ARIMA(1, 0, 1) MSE=80.841\n"
     ]
    }
   ],
   "source": [
    "evaluate_models(indexed_df['Dairy Price Index'].values, p_values, d_values, q_values)\n"
   ]
  },
  {
   "cell_type": "code",
   "execution_count": null,
   "metadata": {
    "collapsed": true
   },
   "outputs": [],
   "source": []
  },
  {
   "cell_type": "markdown",
   "metadata": {},
   "source": [
    "# Forecasting"
   ]
  },
  {
   "cell_type": "markdown",
   "metadata": {},
   "source": [
    "# Save Model"
   ]
  },
  {
   "cell_type": "code",
   "execution_count": 33,
   "metadata": {
    "collapsed": true
   },
   "outputs": [],
   "source": [
    "sugar_model = ARIMA(indexed_df['Sugar Price Index'].values, order=(0,1,1))\n",
    "sugar_model_fit = sugar_model.fit()\n",
    "sugar_model_fit.save('SugarARIMA.pkl')"
   ]
  },
  {
   "cell_type": "code",
   "execution_count": 34,
   "metadata": {
    "collapsed": true
   },
   "outputs": [],
   "source": [
    "meat_model = ARIMA(indexed_df['Meat Price Index'].values, order=(10,1,0))\n",
    "meat_model_fit = meat_model.fit()\n",
    "meat_model_fit.save('MeatARIMA.pkl')"
   ]
  },
  {
   "cell_type": "code",
   "execution_count": 36,
   "metadata": {
    "collapsed": true
   },
   "outputs": [],
   "source": [
    "oils_model = ARIMA(indexed_df['Oils Price Index'].values, order=(1,1,0))\n",
    "oils_model_fit = oils_model.fit()\n",
    "oils_model_fit.save('OilsARIMA.pkl')"
   ]
  },
  {
   "cell_type": "code",
   "execution_count": 37,
   "metadata": {
    "collapsed": true
   },
   "outputs": [],
   "source": [
    "cereal_model = ARIMA(indexed_df['Cereals Price Index'].values, order=(0,1,1))\n",
    "cereal_model_fit = cereal_model.fit()\n",
    "cereal_model_fit.save('CerealsARIMA.pkl')"
   ]
  },
  {
   "cell_type": "code",
   "execution_count": 35,
   "metadata": {
    "collapsed": true
   },
   "outputs": [],
   "source": [
    "dairy_model = ARIMA(indexed_df['Dairy Price Index'].values, order=(0,1,1))\n",
    "dairy_model_fit = dairy_model.fit()\n",
    "dairy_model_fit.save('DairyARIMA.pkl')"
   ]
  },
  {
   "cell_type": "code",
   "execution_count": 20,
   "metadata": {
    "collapsed": true
   },
   "outputs": [],
   "source": [
    "from statsmodels.tsa.arima_model import ARIMAResults\n",
    "loaded = ARIMAResults.load('SavedARIMA.pkl')"
   ]
  },
  {
   "cell_type": "code",
   "execution_count": 29,
   "metadata": {},
   "outputs": [
    {
     "data": {
      "text/plain": [
       "array([-6.65046889e-02,  2.08954801e+00,  2.93837498e+00, -1.83410178e+00,\n",
       "       -2.84170574e+00, -7.84490842e+00, -2.38011825e+00, -4.88851859e+00,\n",
       "        2.56557756e+00, -7.84813182e+00,  4.30779282e+00, -3.50835585e+00,\n",
       "       -3.80786314e+00, -1.78129324e-01,  3.40222185e+00, -4.76714750e+00,\n",
       "       -3.28867285e+00,  9.97831995e+00,  2.11973244e+00, -5.49982267e+00,\n",
       "        1.11792844e+00, -1.41069481e+00, -2.01111325e+00,  2.53600167e+00,\n",
       "       -4.70363526e+00, -8.67519496e-01,  2.29008638e+00,  5.78336831e+00,\n",
       "       -1.55032831e+00,  4.69072917e+00, -2.12628646e+00, -1.85231690e+00,\n",
       "       -2.18625810e+00, -2.47896691e+00,  1.16507161e-01, -2.36539439e+00,\n",
       "        1.29582203e+00,  1.19601200e+00,  1.06337368e+01, -1.26389632e+00,\n",
       "        4.12276787e+00, -9.47479193e+00, -2.67185149e-01, -1.83668963e+00,\n",
       "        1.74337050e+00,  3.31758742e+00, -2.25117804e+00,  2.97161707e+00,\n",
       "       -2.38645173e+00,  3.63466005e+00,  3.55017389e+00, -5.39682513e+00,\n",
       "        5.09059253e+00,  5.48445176e-01, -1.80445222e+00,  2.41882739e+00,\n",
       "        1.68394790e+00,  1.30677301e-01,  6.34100423e+00,  1.48442567e+00,\n",
       "       -1.75182900e-01, -1.87184342e+00,  1.60396383e+00, -5.49379752e+00,\n",
       "        1.07741655e+00,  2.19649704e+00, -3.23657183e+00, -2.11585483e+00,\n",
       "       -6.25041899e+00,  3.12416587e+00, -4.96045163e-01,  1.91888890e+00,\n",
       "        3.84794392e-01,  1.31485475e+00, -3.39709387e-02, -5.09720570e+00,\n",
       "       -1.32849268e+00,  4.68238584e+00,  1.62145270e+00, -3.09326848e+00,\n",
       "       -1.32999708e+00, -3.87601350e+00, -7.63444569e-01,  3.39834356e-01,\n",
       "       -4.63822340e-01,  7.60285468e-01,  1.28600983e+00,  4.73776799e-01,\n",
       "       -1.12635665e+00,  1.93047083e+00, -1.95042310e+00,  3.27700626e+00,\n",
       "       -3.30554387e+00,  1.61684068e+00,  2.60173997e+00,  6.58814891e-01,\n",
       "       -4.55951330e+00, -2.83307338e+00, -3.76020894e+00,  5.67856268e-01,\n",
       "       -2.76711180e+00, -5.16096209e+00,  4.84763113e+00, -2.79759354e+00,\n",
       "       -5.76067040e+00,  3.39555084e+00,  1.88389033e+00, -7.09914236e-01,\n",
       "        3.95799985e-01, -7.21011492e+00, -1.66744747e+00, -2.67720293e+00,\n",
       "        2.75230287e+00,  4.10236717e-01, -3.77675760e+00,  3.40169771e+00,\n",
       "        3.60097841e+00, -8.69282363e-01, -1.22453299e+00, -2.23508395e+00,\n",
       "       -1.39043893e+00, -1.25465884e+00, -4.27716769e-01,  4.87313790e+00,\n",
       "        2.92411632e+00,  6.72560822e+00,  4.20319757e+00,  2.68337237e+00,\n",
       "       -3.30797634e+00,  5.09485337e+00, -6.44555910e+00,  2.89305068e+00,\n",
       "        4.71086512e-01, -2.69192665e+00, -2.28575245e+00, -2.05885336e+00,\n",
       "        5.26713215e+00, -5.02120778e+00,  5.14744331e-01, -3.96952848e+00,\n",
       "       -1.10980983e+00, -4.22761435e+00,  6.32506759e+00, -1.64268089e+00,\n",
       "        3.31900616e-01, -6.91823121e+00,  3.37933495e+00, -3.26076578e-01,\n",
       "       -4.33602799e+00, -1.67367618e-01,  3.43631954e+00, -1.87623846e+00,\n",
       "        4.28032259e+00,  1.27835370e+00,  1.16447689e+00,  1.38117117e-01,\n",
       "        1.17985117e+00,  3.87679385e+00, -5.71267419e+00, -4.81968685e-01,\n",
       "       -3.05375148e+00, -1.30688671e+00,  1.08241789e+00, -5.56512794e-01,\n",
       "       -4.43902752e+00,  1.51500556e+00,  4.18114225e-03,  1.03997919e+00,\n",
       "       -3.06213769e+00,  1.29457766e+00,  2.76308543e+00, -4.72706505e-01,\n",
       "       -1.14680522e+00,  3.54309182e+00,  3.92904919e+00, -3.40184873e+00,\n",
       "        1.84468701e+00,  3.35529409e+00, -2.91515065e+00,  1.54409199e+00,\n",
       "        1.86534290e+00,  1.32228711e+00, -1.79445730e+00, -9.47445778e-01,\n",
       "        2.57301852e-01,  2.35702163e+00,  2.24249959e+00,  6.81450467e-01,\n",
       "        1.69822951e+00,  3.67872301e+00, -5.83748125e-02,  1.06163082e+01,\n",
       "        8.90654495e+00,  8.41354926e+00, -7.06405804e+00,  3.96999084e+00,\n",
       "       -5.21334860e+00, -5.79286014e+00,  5.70043282e+00, -1.63440049e+01,\n",
       "       -1.23419145e+00, -2.00213525e+00,  1.42448972e+00, -1.71887950e+00,\n",
       "       -2.77218002e+00, -1.07058698e+00, -3.83420966e-01, -3.81739069e+00,\n",
       "       -1.74488877e-01, -7.64027124e-01,  5.00164109e+00, -3.96452177e+00,\n",
       "        1.18085948e+00,  8.19632086e-01,  1.55252185e-01,  3.19841834e+00,\n",
       "        5.58913616e+00,  6.08940903e+00, -4.07447705e+00, -1.98674224e+00,\n",
       "       -1.94384604e+00,  9.81910819e-01,  1.09448025e+01, -2.18515743e+00,\n",
       "       -5.07764749e+00, -6.95279262e+00,  3.66000871e+00, -3.37546856e+00,\n",
       "        5.34990019e+00,  1.78670419e+00,  2.06043542e-01,  1.19210639e+00,\n",
       "        1.25075047e+01, -2.82047107e+00,  1.18627456e+01,  1.71420979e+01,\n",
       "       -3.36862489e+00, -9.19106561e-01, -1.77864090e+00,  7.52906558e+00,\n",
       "        1.29136895e+01, -1.06176143e+01, -3.26908633e+01,  4.26730397e-01,\n",
       "       -6.99267510e+00,  6.12066888e+00,  6.19198960e+00,  3.41363932e+00,\n",
       "        1.97973309e+01,  4.29042165e+00,  7.50267698e+00,  6.61917101e+00,\n",
       "        5.73404545e+00, -3.02166073e+00, -1.64501921e+01, -3.94471645e+00,\n",
       "       -1.13594917e+01,  2.16593400e+01,  7.97306967e+00, -5.67304149e+00,\n",
       "       -3.51567901e+00, -5.52450176e+00, -6.09427620e+00, -2.70516146e+00,\n",
       "        3.79464781e+00,  1.54034803e+00, -8.07905967e-01, -6.59734359e+00,\n",
       "       -8.77933269e+00,  1.68324487e+00,  1.22434228e+01, -1.54816080e+01,\n",
       "        1.07275895e+00,  1.24303404e+00, -5.77619408e+00,  1.94951356e+00,\n",
       "       -3.18040987e+00, -2.13731415e+00,  1.82002854e+00, -4.35364462e+00,\n",
       "        6.41767472e-01, -3.17745011e+00, -2.27959759e-01,  1.05226013e+00,\n",
       "        1.36549570e+00,  6.40411963e+00, -7.93927825e+00, -3.03185366e+00,\n",
       "       -3.95172352e+00,  6.67816699e+00,  4.48879267e+00, -3.34825712e+00,\n",
       "        4.80456689e+00, -2.39904176e+00,  1.27046888e+00, -6.20698362e+00,\n",
       "       -3.88480688e+00,  5.04779068e+00, -5.01381746e+00, -2.81232392e+00,\n",
       "        1.08449543e+00, -4.53111605e+00, -5.67144213e+00,  1.18350374e+00,\n",
       "        9.33250844e-01, -5.19931036e+00,  3.60136359e+00, -8.32032223e+00,\n",
       "        5.09957070e+00,  9.06577911e+00, -5.34289855e-02,  4.50636549e-01,\n",
       "       -3.44830690e+00, -3.44871061e+00,  1.34783435e+01, -6.66850894e+00,\n",
       "        1.20721492e+01,  8.92341795e+00, -2.44445440e+00,  3.50398387e+00,\n",
       "        5.93089694e+00,  1.67933616e+00, -1.14833112e+01, -5.04014322e+00,\n",
       "        1.17556331e+01, -4.78755579e+00, -1.02350414e+01, -5.02037726e+00,\n",
       "       -2.11557421e-01, -1.16778393e+01,  8.29295341e+00, -4.61076723e+00,\n",
       "        1.80988504e+00, -1.02552439e+00,  3.84063813e+00, -4.82003596e+00,\n",
       "        1.70409227e-01, -2.99734551e+00, -1.55769750e+00, -3.06302543e+00,\n",
       "        7.98190676e-01])"
      ]
     },
     "execution_count": 29,
     "metadata": {},
     "output_type": "execute_result"
    }
   ],
   "source": [
    "loaded.fittedvalues"
   ]
  },
  {
   "cell_type": "code",
   "execution_count": null,
   "metadata": {
    "collapsed": true
   },
   "outputs": [],
   "source": []
  }
 ],
 "metadata": {
  "anaconda-cloud": {},
  "kernelspec": {
   "display_name": "Python [conda env:sarah_thinkful]",
   "language": "python",
   "name": "conda-env-sarah_thinkful-py"
  },
  "language_info": {
   "codemirror_mode": {
    "name": "ipython",
    "version": 3
   },
   "file_extension": ".py",
   "mimetype": "text/x-python",
   "name": "python",
   "nbconvert_exporter": "python",
   "pygments_lexer": "ipython3",
   "version": "3.6.6"
  }
 },
 "nbformat": 4,
 "nbformat_minor": 2
}
